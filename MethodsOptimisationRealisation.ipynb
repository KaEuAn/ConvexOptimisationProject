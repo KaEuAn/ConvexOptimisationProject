{
 "cells": [
  {
   "cell_type": "markdown",
   "metadata": {},
   "source": [
    "# Methods Optimisation Realisation"
   ]
  },
  {
   "cell_type": "markdown",
   "metadata": {},
   "source": [
    "## Methods of first order"
   ]
  },
  {
   "cell_type": "markdown",
   "metadata": {},
   "source": [
    "### SimpleGradientDescent"
   ]
  },
  {
   "cell_type": "markdown",
   "metadata": {},
   "source": [
    "First task"
   ]
  },
  {
   "cell_type": "code",
   "execution_count": 1,
   "metadata": {},
   "outputs": [
    {
     "name": "stdout",
     "output_type": "stream",
     "text": [
      "[ 6.94186636 -7.30366524 -3.44149268]\n",
      "[-7.94186636]\n"
     ]
    }
   ],
   "source": [
    "import numpy as np\n",
    "from opt_project import task_1\n",
    "from opt_project.methods.first_order_methods import simple_gd\n",
    "from opt_project.stop_criterias import iteration_stop_crit\n",
    "\n",
    "a = np.array([1., 0., 0.])\n",
    "b = np.array([1,])\n",
    "F = np.array([\n",
    "    [76.3402909013, 27.3236913435, 10.0695823542],\n",
    "    [-27.5962812192, -62.9012921655, 17.7348207564],\n",
    "    [-26.2012001069, 19.1239055741, 58.1525657745],\n",
    "    [-22.5428095751, 16.4536952479, -85.9569688851]\n",
    "])\n",
    "g = np.array([\n",
    "    295.7266088536,\n",
    "    206.8060288566,\n",
    "    22.2680415867,\n",
    "    19.1588255138\n",
    "])\n",
    "\n",
    "oracle = task_1.first_order_oracle(a, b)\n",
    "constraints = task_1.constraints(F, g)\n",
    "criteria = iteration_stop_crit(500)\n",
    "\n",
    "gradient_descent_task = simple_gd(oracle, constraints)\n",
    "gradient_descent_task.set_init_position(np.array([0.,0.,0.]))\n",
    "gradient_descent_task.set_alpha(0.1)\n",
    "\n",
    "result = gradient_descent_task.make(criteria)\n",
    "print(result)\n",
    "print(oracle.func(result))"
   ]
  },
  {
   "cell_type": "markdown",
   "metadata": {},
   "source": [
    "Second task"
   ]
  },
  {
   "cell_type": "code",
   "execution_count": 8,
   "metadata": {},
   "outputs": [
    {
     "name": "stdout",
     "output_type": "stream",
     "text": [
      "[23.53358054 23.53358054]\n"
     ]
    }
   ],
   "source": [
    "import numpy as np\n",
    "from opt_project import task_2\n",
    "from opt_project.methods.first_order_methods import simple_gd\n",
    "from opt_project.stop_criterias import iteration_stop_crit\n",
    "\n",
    "F = np.array([\n",
    "    [-1, 1],\n",
    "    [1, -1]\n",
    "])\n",
    "g = np.array([1, 1])\n",
    "a = np.array([1, 1])\n",
    "b = 1\n",
    "c = np.array([1, 1])\n",
    "d = 1\n",
    "\n",
    "oracle = task_2.first_order_oracle()\n",
    "constraints = task_2.constraints(F, g, a, b, c, d)\n",
    "init_point = constraints.initialise()\n",
    "criteria = iteration_stop_crit(20000)\n",
    "\n",
    "\n",
    "gradient_descent_task = simple_gd(oracle, constraints)\n",
    "gradient_descent_task.set_init_position(init_point)\n",
    "gradient_descent_task.set_alpha(0.5)\n",
    "\n",
    "result = gradient_descent_task.make(criteria)\n",
    "print(result)\n"
   ]
  }
 ],
 "metadata": {
  "kernelspec": {
   "display_name": "Python 3",
   "language": "python",
   "name": "python3"
  },
  "language_info": {
   "codemirror_mode": {
    "name": "ipython",
    "version": 3
   },
   "file_extension": ".py",
   "mimetype": "text/x-python",
   "name": "python",
   "nbconvert_exporter": "python",
   "pygments_lexer": "ipython3",
   "version": "3.6.6"
  }
 },
 "nbformat": 4,
 "nbformat_minor": 2
}
