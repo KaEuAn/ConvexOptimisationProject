{
 "cells": [
  {
   "cell_type": "markdown",
   "metadata": {},
   "source": [
    "# Methods Optimisation Realisation"
   ]
  },
  {
   "cell_type": "markdown",
   "metadata": {},
   "source": [
    "## Methods of first order"
   ]
  },
  {
   "cell_type": "markdown",
   "metadata": {},
   "source": [
    "### SimpleGradientDescent"
   ]
  },
  {
   "cell_type": "code",
   "execution_count": 1,
   "metadata": {},
   "outputs": [
    {
     "name": "stdout",
     "output_type": "stream",
     "text": [
      "optimisatoin_methods_dir\n",
      "task_1_dir\n",
      "1 2\n"
     ]
    }
   ],
   "source": [
    "from optimisation_methods_project import task_1\n",
    "from optimisation_methods_project.solution_methods.first_order_methods import gradient_descent\n",
    "a = 1\n",
    "b = 2\n",
    "\n",
    "oracle = task_1.first_order_oracle(a, b)\n",
    "step_size = task_1.step_size(a, b)\n",
    "\n",
    "from optimisation_methods_project.constraints import linear_constraints\n",
    "constratins = linear_constraints(c, d)\n",
    "gradient_descent_task = gradient_descent(oracle, constraints)\n",
    "result = descent_task.perform()\n",
    "result.show()"
   ]
  }
 ],
 "metadata": {
  "kernelspec": {
   "display_name": "Python 3",
   "language": "python",
   "name": "python3"
  },
  "language_info": {
   "codemirror_mode": {
    "name": "ipython",
    "version": 3
   },
   "file_extension": ".py",
   "mimetype": "text/x-python",
   "name": "python",
   "nbconvert_exporter": "python",
   "pygments_lexer": "ipython3",
   "version": "3.6.6"
  }
 },
 "nbformat": 4,
 "nbformat_minor": 2
}
