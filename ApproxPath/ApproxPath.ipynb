{
 "cells": [
  {
   "cell_type": "markdown",
   "metadata": {},
   "source": [
    "## Class ApproxPath\n",
    "This class allows you to work with all optimization methods through the object 'ApproxPath'.<br>\n",
    "This object is a sequence of points in which we were in the process of the method <br>\n",
    "Method 'Append(point)' adds a new point to the sequence <br>\n",
    "Method 'GetIterationAmount()' returns the number of iterations done in this method <br>\n",
    "Method 'Show(text)' draws a graph of the point dependence on the iteration number and calls it with the text<br>\n",
    "Method 'GetSequence()' gives the sequence of points which we visited in the process of the optimization method <br>\n",
    "Method 'GetLastValue()' gives the last values of the sequence <br>\n",
    "The method should return this object as the result of its work"
   ]
  },
  {
   "cell_type": "code",
   "execution_count": 10,
   "metadata": {},
   "outputs": [],
   "source": [
    "%matplotlib inline\n",
    "from matplotlib import pyplot as plt\n",
    "from copy import deepcopy\n",
    "\n",
    "\n",
    "class ApproxPath(object):\n",
    "    def __init__(self):\n",
    "        self.a = []\n",
    "        \n",
    "    def Append(self, point):\n",
    "        self.a.append(point)\n",
    "        \n",
    "    def GetIterationAmount(self):\n",
    "        return len(self.a)\n",
    "    \n",
    "    def Show(self, text):\n",
    "        iters = [i for i in range(len(self.a))]\n",
    "        plt.figure(figsize=(15,7))\n",
    "        plt.plot(iters, self.a)\n",
    "        plt.title(text, fontsize=20)\n",
    "        plt.legend()\n",
    "        plt.grid(True)\n",
    "        plt.show()\n",
    "        \n",
    "    def GetSequence(self):\n",
    "        return deepcopy(self.a)\n",
    "    \n",
    "    def GetLastValue(self):\n",
    "        return self.a[-1]"
   ]
  }
 ],
 "metadata": {
  "kernelspec": {
   "display_name": "Python 3",
   "language": "python",
   "name": "python3"
  },
  "language_info": {
   "codemirror_mode": {
    "name": "ipython",
    "version": 3
   },
   "file_extension": ".py",
   "mimetype": "text/x-python",
   "name": "python",
   "nbconvert_exporter": "python",
   "pygments_lexer": "ipython3",
   "version": "3.6.5"
  }
 },
 "nbformat": 4,
 "nbformat_minor": 2
}
