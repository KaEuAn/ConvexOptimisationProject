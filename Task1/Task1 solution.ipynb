{
 "cells": [
  {
   "cell_type": "markdown",
   "metadata": {},
   "source": [
    "# Solving of the first problem"
   ]
  },
  {
   "cell_type": "markdown",
   "metadata": {},
   "source": [
    "* Cucumbers and onions"
   ]
  },
  {
   "cell_type": "code",
   "execution_count": 1,
   "metadata": {},
   "outputs": [
    {
     "name": "stdout",
     "output_type": "stream",
     "text": [
      "     pcost       dcost       gap    pres   dres   k/t\n",
      " 0: -2.0538e+01 -4.8231e+01  1e+01  0e+00  9e-01  1e+00\n",
      " 1: -2.1458e+01 -2.4049e+01  9e-01  4e-16  8e-02  8e-02\n",
      " 2: -2.1993e+01 -2.2046e+01  2e-02  4e-16  2e-03  2e-03\n",
      " 3: -2.2000e+01 -2.2000e+01  2e-04  9e-17  2e-05  2e-05\n",
      " 4: -2.2000e+01 -2.2000e+01  2e-06  2e-16  2e-07  2e-07\n",
      " 5: -2.2000e+01 -2.2000e+01  2e-08  2e-16  2e-09  2e-09\n",
      "Optimal solution found.\n",
      "[ 3.00e+00]\n",
      "[ 2.00e+00]\n",
      "\n"
     ]
    }
   ],
   "source": [
    "from cvxopt import matrix, solvers\n",
    "A = matrix([[2.0, 1.0, 0.0, -1.0, 0.0], [1.0, 2.0, 1.0, 0.0, -1.0]])\n",
    "b = matrix([8.0, 7.0, 3.0, 0.0, 0.0])\n",
    "c = matrix([-4.0, -5.0])\n",
    "\n",
    "sol=solvers.lp(c,A,b)\n",
    "print(sol['x'])\n"
   ]
  },
  {
   "cell_type": "markdown",
   "metadata": {},
   "source": [
    "* German Wines"
   ]
  },
  {
   "cell_type": "code",
   "execution_count": 2,
   "metadata": {},
   "outputs": [
    {
     "name": "stdout",
     "output_type": "stream",
     "text": [
      "     pcost       dcost       gap    pres   dres   k/t\n",
      " 0: -1.7537e+03 -4.6124e+03  1e+03  1e-01  1e+00  1e+00\n",
      " 1: -1.9002e+03 -3.3677e+03  6e+02  6e-02  7e-01  1e+01\n",
      " 2: -2.0503e+03 -3.6352e+03  9e+02  7e-02  8e-01  4e+01\n",
      " 3: -2.1014e+03 -2.1512e+03  2e+01  2e-03  3e-02  3e+00\n",
      " 4: -2.1000e+03 -2.1005e+03  2e-01  2e-05  3e-04  3e-02\n",
      " 5: -2.1000e+03 -2.1000e+03  2e-03  2e-07  3e-06  3e-04\n",
      " 6: -2.1000e+03 -2.1000e+03  2e-05  2e-09  3e-08  3e-06\n",
      "Optimal solution found.\n",
      "[-1.46e-07]\n",
      "[ 5.00e+01]\n",
      "[ 7.50e+01]\n",
      "\n"
     ]
    }
   ],
   "source": [
    "A = matrix([[1.0, 1.0, 2.0, 2.0, -1.0, 0.0, 0.0], [2.0, 0.0, 1.0, 3.0, 0.0, -1.0, 0.0], [0.0, 2.0, 0.0, 1.0, 0.0, 0.0, -1.0]])\n",
    "b = matrix([150.0, 150.0, 80.0, 225.0, 0.0, 0.0, 0.0])\n",
    "c = matrix([-10.0, -12.0, -20.0])\n",
    "\n",
    "sol=solvers.lp(c,A,b)\n",
    "print(sol['x'])"
   ]
  },
  {
   "cell_type": "markdown",
   "metadata": {},
   "source": [
    "* Perfumes"
   ]
  },
  {
   "cell_type": "code",
   "execution_count": 3,
   "metadata": {},
   "outputs": [
    {
     "name": "stdout",
     "output_type": "stream",
     "text": [
      "     pcost       dcost       gap    pres   dres   k/t\n",
      " 0: -3.2476e+03 -5.2784e+03  7e+02  0e+00  4e-01  1e+00\n",
      " 1: -3.5884e+03 -3.8092e+03  6e+01  7e-17  5e-02  4e+00\n",
      " 2: -3.5999e+03 -3.6022e+03  6e-01  2e-16  5e-04  4e-02\n",
      " 3: -3.6000e+03 -3.6000e+03  6e-03  2e-16  5e-06  4e-04\n",
      " 4: -3.6000e+03 -3.6000e+03  6e-05  3e-16  5e-08  4e-06\n",
      "Optimal solution found.\n",
      "[ 2.00e+00]\n",
      "[ 6.00e+00]\n",
      "\n"
     ]
    }
   ],
   "source": [
    "A = matrix([ [1.0, 0.0, 3.0, -1.0, 0.0], [0.0, 2.0, 2.0, 0.0, -1.0]])\n",
    "b = matrix([4.0, 12.0, 18.0, 0.0, 0.0])\n",
    "c = matrix([-300.0, -500.0])\n",
    "\n",
    "sol=solvers.lp(c,A,b)\n",
    "print(sol['x'])\n"
   ]
  },
  {
   "cell_type": "markdown",
   "metadata": {},
   "source": [
    "* Dairy Products"
   ]
  },
  {
   "cell_type": "code",
   "execution_count": 5,
   "metadata": {},
   "outputs": [
    {
     "name": "stdout",
     "output_type": "stream",
     "text": [
      "     pcost       dcost       gap    pres   dres   k/t\n",
      " 0: -1.6168e+04 -5.9742e+04  7e+03  4e-02  3e+00  1e+00\n",
      " 1: -1.5963e+04 -2.0647e+04  5e+02  5e-03  3e-01  4e+01\n",
      " 2: -1.5992e+04 -1.7800e+04  2e+02  2e-03  1e-01  2e+01\n",
      " 3: -1.6170e+04 -1.7384e+04  2e+02  1e-03  8e-02  2e+01\n",
      " 4: -1.6182e+04 -1.6286e+04  2e+01  1e-04  7e-03  2e+00\n",
      " 5: -1.6187e+04 -1.6189e+04  2e-01  1e-06  7e-05  2e-02\n",
      " 6: -1.6187e+04 -1.6188e+04  2e-03  1e-08  7e-07  2e-04\n",
      " 7: -1.6187e+04 -1.6188e+04  2e-05  1e-10  7e-09  2e-06\n",
      "Optimal solution found.\n",
      "[ 2.50e+02]\n",
      "[ 3.86e-06]\n",
      "[ 8.75e+02]\n",
      "\n"
     ]
    }
   ],
   "source": [
    "A = matrix([ [5.0, 3.0, 2.0, 15.0, -1.0, 0.0, 0.0], [5.0, 0.0, 5.0, 30.0, 0.0, -1.0, 0.0], [2.0, 0.0, 4.0, 10.0, 0.0, 0.0, -1.0]])\n",
    "b = matrix([3000.0, 1000.0, 4000.0, 15000.0, 0.0, 0.0, 0.0])\n",
    "c = matrix([-17.5, -22.5, -13.5])\n",
    "\n",
    "sol=solvers.lp(c,A,b)\n",
    "print(sol['x'])"
   ]
  },
  {
   "cell_type": "code",
   "execution_count": 6,
   "metadata": {},
   "outputs": [
    {
     "data": {
      "text/plain": [
       "18187.5"
      ]
     },
     "execution_count": 6,
     "metadata": {},
     "output_type": "execute_result"
    }
   ],
   "source": [
    "250 * 20 + 875 * 15 + 8000 * 0.25 - 10 * 0.25 * 250 - 6 * 0.25 * 875"
   ]
  },
  {
   "cell_type": "markdown",
   "metadata": {},
   "source": [
    "* Apples"
   ]
  },
  {
   "cell_type": "code",
   "execution_count": 7,
   "metadata": {},
   "outputs": [
    {
     "name": "stdout",
     "output_type": "stream",
     "text": [
      "     pcost       dcost       gap    pres   dres   k/t\n",
      " 0: -6.5812e+03 -3.0218e+04  5e+04  4e-01  9e-01  1e+00\n",
      " 1: -1.4330e+04 -3.0588e+04  4e+04  3e-01  6e-01  5e+02\n",
      " 2: -2.6990e+04 -5.3881e+04  1e+05  5e-01  1e+00  2e+03\n",
      " 3: -3.3470e+04 -3.8552e+04  2e+04  1e-01  2e-01  8e+02\n",
      " 4: -3.7723e+04 -3.7919e+04  8e+02  4e-03  9e-03  3e+01\n",
      " 5: -3.7997e+04 -3.7999e+04  8e+00  4e-05  1e-04  4e-01\n",
      " 6: -3.8000e+04 -3.8000e+04  8e-02  4e-07  1e-06  4e-03\n",
      " 7: -3.8000e+04 -3.8000e+04  8e-04  4e-09  1e-08  4e-05\n",
      "Optimal solution found.\n",
      "[ 9.17e+03]\n",
      "[ 4.17e+03]\n",
      "[-2.37e-06]\n",
      "[ 5.00e+02]\n",
      "\n"
     ]
    }
   ],
   "source": [
    "A = matrix([\n",
    "    [-1.0, 0.0, 0.0, 0.0, 1.0, -1.0, 0.0, 0.0, 0.0],\n",
    "    [0.0, -1.0, 0.0, 0.0, -1.0, 1.0, 0.6, -0.6, 0.0],\n",
    "    [0.0, 0.0, -1.0, 0.0, 0.0, 0.0, 1.0, -1.0, 0.0],\n",
    "    [0.0, 0.0, 0.0, -1.0, 0.0, 0.0, -1.0, 1.0, 1.0],\n",
    "])\n",
    "b = matrix([0.0, 0.0, 0.0, 0.0, 5000.0, 0.0, 2000.0, 0.0, 500.0])\n",
    "c = matrix([-4.0, -0.8, -2, 4])\n",
    "\n",
    "sol=solvers.lp(c,A,b)\n",
    "print(sol['x'])"
   ]
  }
 ],
 "metadata": {
  "kernelspec": {
   "display_name": "Python 3",
   "language": "python",
   "name": "python3"
  },
  "language_info": {
   "codemirror_mode": {
    "name": "ipython",
    "version": 3
   },
   "file_extension": ".py",
   "mimetype": "text/x-python",
   "name": "python",
   "nbconvert_exporter": "python",
   "pygments_lexer": "ipython3",
   "version": "3.6.6"
  }
 },
 "nbformat": 4,
 "nbformat_minor": 2
}
