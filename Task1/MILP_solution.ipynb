{
 "cells": [
  {
   "cell_type": "markdown",
   "metadata": {},
   "source": [
    "## Bin Packing"
   ]
  },
  {
   "cell_type": "code",
   "execution_count": null,
   "metadata": {},
   "outputs": [],
   "source": [
    "from cvxopt import matrix, solvers\n",
    "import numpy as np\n",
    "w = [6.0, 6.0, 6.0, 7.0, 7.0, 7.0, 8.0, 8.0, 8.0, 9.0, 9.0, 9.0, 10.0, 10.0, 10.0]\n",
    "\n",
    "for k in range(1, 16):\n",
    "    Ax = [[0 for j in range(k * 16 + 30)] for i in range(15 * k)]\n",
    "    c = matrix([0.0 for i in range(15 * k)])\n",
    "    for i in range(15 * k):\n",
    "        Ax[i][i // 15] = w[i % 15]\n",
    "    for i in range(15 * k):\n",
    "        Ax[i][i + k] = -1.0\n",
    "    for i in range(15):\n",
    "        for j in range(k):\n",
    "            Ax[15 * j + i][16 * k + i] = 1.0\n",
    "    for i in range(15):\n",
    "        for j in range(k):\n",
    "            Ax[15 * j + i][16 * k + 15 + i] = -1.0\n",
    "    A = matrix(Ax)\n",
    "    b = matrix([20.0 for i in range(k)] + [0.0 for i in range(15*k)] + [1.0 for i in range(15)] + [-1.0 for i in range(15)])\n",
    "    sol=solvers.lp(c,A,b)\n",
    "    if sol['x'] == None:\n",
    "        continue\n",
    "    else:\n",
    "        print(sol['x'])\n",
    "        print(k)\n",
    "        break"
   ]
  },
  {
   "cell_type": "markdown",
   "metadata": {},
   "source": [
    "## Coals"
   ]
  },
  {
   "cell_type": "code",
   "execution_count": null,
   "metadata": {},
   "outputs": [],
   "source": [
    "from cvxopt import matrix, solvers\n",
    "import numpy as np\n",
    "import sys\n",
    "sys.setrecursionlimit(100000)\n",
    "\n",
    "def GetAllCombinations(comb, k):\n",
    "    if (k == 4):\n",
    "        allCombs.append(comb)\n",
    "        return\n",
    "    start = 0\n",
    "    if (len(comb) != 0):\n",
    "        start = comb[-1]\n",
    "    for i in range(start + 1, 6 + k):\n",
    "        GetAllCombinations(comb + [i], k + 1)\n",
    "\n",
    "allCombs = []\n",
    "GetAllCombinations([], 0)\n",
    "price = [0.0, 12.0, 14.0, 17.0, 10.0, 13.0, 9.0, 15.0, 11.0]\n",
    "prop = [0.0, 0.02, 0.025, 0.01, 0.05, 0.01, 0.05, 0.02, 0.01]\n",
    "minimum = 1000000.0\n",
    "solution = []\n",
    "for comb in allCombs:\n",
    "    A = matrix([[-1.0, 0.0, 0.0, 0.0, -19*prop[comb[0]], prop[comb[0]], prop[comb[0]], prop[comb[0]], prop[comb[0]] - 1.8],\n",
    "                [0.0, -1.0, 0.0, 0.0, prop[comb[1]], -19*prop[comb[1]], prop[comb[1]], prop[comb[1]], prop[comb[1]] - 1.8],\n",
    "                [0.0, 0.0, -1.0, 0.0, prop[comb[2]], prop[comb[2]], -19*prop[comb[2]], prop[comb[2]], prop[comb[2]] - 1.8],\n",
    "                [0.0, 0.0, 0.0, -1.0, prop[comb[3]], prop[comb[3]], prop[comb[3]], -19*prop[comb[3]], prop[comb[3]] - 1.8]])\n",
    "    b = matrix([0.0 for i in range(9)])\n",
    "    c = matrix([price[comb[i]] for i in range(4)])\n",
    "    sol=solvers.lp(c,A,b)\n",
    "    sol = sol['x']\n",
    "    if (sol != None):\n",
    "        summ = 0\n",
    "        for i in range(len(c)):\n",
    "            summ += c[i] * sol[i]\n",
    "        if (summ < minimum):\n",
    "            minimum = summ\n",
    "            solution = comb\n",
    "            \n",
    "print(\"OPTIMAL\\n\")\n",
    "print(solution)\n",
    "print(sum([prop[solution[i]] for i in range(len(solution))]) / 4)"
   ]
  },
  {
   "cell_type": "markdown",
   "metadata": {},
   "source": [
    "## Independent Set (Stable)"
   ]
  },
  {
   "cell_type": "code",
   "execution_count": null,
   "metadata": {},
   "outputs": [],
   "source": [
    "from cvxopt import matrix, solvers\n",
    "import numpy as np\n",
    "n = 4;\n",
    "adj = [[0, 1, 1, 1],\n",
    "       [1, 0, 1, 0],\n",
    "       [1, 1, 0, 0],\n",
    "       [1, 0, 0, 0]];\n",
    "# n = 2\n",
    "# adj = [[0.0, 0.0],\n",
    "#        [0.0, 0.0]]\n",
    "\n",
    "k = 0\n",
    "for i in range(n):\n",
    "    for j in range(i, n):\n",
    "        k += int(adj[i][j])\n",
    "print(k)\n",
    "\n",
    "\n",
    "c = matrix([-1.0 for i in range(n)] + [2.0 * n for i in range(n ** 2)])\n",
    "Ax = [[0.0 for i in range(2 * n ** 2 + 2 * n + k)] for j in range(n + n ** 2)]\n",
    "b = []\n",
    "for i in range(n):\n",
    "    Ax[i][i] = 1.0\n",
    "    b.append(1.0)\n",
    "for i in range(n):\n",
    "    Ax[i][i + n] = -1.0\n",
    "    b.append(0.0)\n",
    "for i in range(n ** 2):\n",
    "    Ax[i + n][i + 2 * n] = 1.0\n",
    "    b.append(adj[i // n][i % n])\n",
    "for i in range(n ** 2):\n",
    "    Ax[i + n][i + 2 * n + n ** 2] = -1.0\n",
    "    b.append(0.0)\n",
    "counter = 0\n",
    "for i in range(n):\n",
    "    for j in range(i, n):\n",
    "        if (adj[i][j] == 1.0):\n",
    "            Ax[i][counter + 2 * n ** 2 + 2 * n] = 1.0\n",
    "            Ax[j][counter + 2 * n ** 2 + 2 * n] = 1.0\n",
    "            Ax[n + i * n + j][counter + 2 * n ** 2 + 2 * n] = -1.0\n",
    "            b.append(1.0)\n",
    "            counter += 1\n",
    "# for i in Ax:\n",
    "#     print(i)\n",
    "# print(b)\n",
    "A = matrix(Ax)\n",
    "b = matrix(b)\n",
    "sol=solvers.lp(c,A,b)\n",
    "sol = sol['x'][:n]\n",
    "print(sol)\n",
    "print(\"Количество вершин -\", int(np.round(sum(sol))))"
   ]
  },
  {
   "cell_type": "code",
   "execution_count": null,
   "metadata": {},
   "outputs": [],
   "source": []
  }
 ],
 "metadata": {
  "kernelspec": {
   "display_name": "Python 3",
   "language": "python",
   "name": "python3"
  },
  "language_info": {
   "codemirror_mode": {
    "name": "ipython",
    "version": 3
   },
   "file_extension": ".py",
   "mimetype": "text/x-python",
   "name": "python",
   "nbconvert_exporter": "python",
   "pygments_lexer": "ipython3",
   "version": "3.6.5"
  }
 },
 "nbformat": 4,
 "nbformat_minor": 2
}
