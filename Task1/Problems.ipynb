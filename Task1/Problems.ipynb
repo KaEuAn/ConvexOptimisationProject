{
 "cells": [
  {
   "cell_type": "markdown",
   "metadata": {},
   "source": [
    "## Задача toy shop\n",
    "\n",
    "Нужно сначала построить задачу для целочисленных ограничений, потом переводим в непрерывные. По сути стандартное решение выводит нам ограничение снизу (потому что добавили лишние возможные точки)."
   ]
  },
  {
   "cell_type": "code",
   "execution_count": 2,
   "metadata": {},
   "outputs": [
    {
     "name": "stdout",
     "output_type": "stream",
     "text": [
      "     pcost       dcost       gap    pres   dres   k/t\n",
      " 0: -8.3495e+04 -2.1108e+05  9e+04  2e-01  1e+00  1e+00\n",
      " 1: -8.9842e+04 -1.6953e+05  7e+04  1e-01  6e-01  2e+03\n",
      " 2: -8.1912e+04 -8.9743e+04  6e+03  1e-02  6e-02  4e+02\n",
      " 3: -8.1995e+04 -8.2117e+04  8e+01  2e-04  1e-03  8e+00\n",
      " 4: -8.2000e+04 -8.2001e+04  8e-01  2e-06  1e-05  8e-02\n",
      " 5: -8.2000e+04 -8.2000e+04  8e-03  2e-08  1e-07  8e-04\n",
      "Optimal solution found.\n",
      "[[  -0.]\n",
      " [  -0.]\n",
      " [   0.]\n",
      " [  -0.]\n",
      " [   0.]\n",
      " [   0.]\n",
      " [ 437.]\n",
      " [ 563.]]\n"
     ]
    }
   ],
   "source": [
    "from cvxopt import matrix, solvers\n",
    "import numpy as np\n",
    "A = matrix([\n",
    "    [-1.0, 0.0, 0.0, 0.0, 0.0, 0.0, 0.0, 0.0, 2.4, 0.0, 1.0],\n",
    "    [0.0, -1.0, 0.0, 0.0, 0.0, 0.0, 0.0, 0.0, 0.0, 1.6, 1.0],\n",
    "    [0.0, 0.0, -1.0, 0.0, 0.0, 0.0, 0.0, 0.0, 3.1, 0.0, 1.0],\n",
    "    [0.0, 0.0, 0.0, -1.0, 0.0, 0.0, 0.0, 0.0, 0.0, 1.5, 1.0],\n",
    "    [0.0, 0.0, 0.0, 0.0, -1.0, 0.0, 0.0, 0.0, 0.8, 0.0, 1.0],\n",
    "    [0.0, 0.0, 0.0, 0.0, 0.0, -1.0, 0.0, 0.0, 0.0, 2.9, 1.0],\n",
    "    [0.0, 0.0, 0.0, 0.0, 0.0, 0.0, -1.0, 0.0, 3.1, 0.0, 1.0],\n",
    "    [0.0, 0.0, 0.0, 0.0, 0.0, 0.0, 0.0, -1.0, 0.0, 4.0, 1.0]\n",
    "])\n",
    "b = matrix([0.0, 0.0, 0.0, 0.0, 0.0, 0.0, 0.0, 0.0, 1700.0, 2600.0, 1000.0])\n",
    "c = matrix([-53.0, -53.0, -56.0, -56.0, -62.0, -62.0, -82.0, -82.0])\n",
    "\n",
    "sol=solvers.lp(c,A,b)\n",
    "print(np.round(sol['x']))"
   ]
  },
  {
   "cell_type": "markdown",
   "metadata": {},
   "source": [
    "## Задача bin packing"
   ]
  },
  {
   "cell_type": "code",
   "execution_count": null,
   "metadata": {
    "collapsed": true
   },
   "outputs": [],
   "source": [
    "\n",
    "sol=solvers.lp(c,A,b)\n",
    "print(np.round(sol['x']))"
   ]
  }
 ],
 "metadata": {
  "kernelspec": {
   "display_name": "Python 3",
   "language": "python",
   "name": "python3"
  },
  "language_info": {
   "codemirror_mode": {
    "name": "ipython",
    "version": 3
   },
   "file_extension": ".py",
   "mimetype": "text/x-python",
   "name": "python",
   "nbconvert_exporter": "python",
   "pygments_lexer": "ipython3",
   "version": "3.5.4"
  }
 },
 "nbformat": 4,
 "nbformat_minor": 1
}
